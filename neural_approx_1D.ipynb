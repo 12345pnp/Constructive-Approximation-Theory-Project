{
 "cells": [
  {
   "cell_type": "markdown",
   "id": "086a7271-27a2-462e-9bac-e5303a3f9e39",
   "metadata": {
    "tags": []
   },
   "source": [
    "<h1>Using a neural network to approximate a 1-D function</h1>"
   ]
  },
  {
   "cell_type": "code",
   "execution_count": null,
   "id": "3e989bc8",
   "metadata": {
    "colab": {
     "base_uri": "https://localhost:8080/"
    },
    "executionInfo": {
     "elapsed": 3803,
     "status": "ok",
     "timestamp": 1667286971742,
     "user": {
      "displayName": "biplab k",
      "userId": "11262593756827991651"
     },
     "user_tz": -330
    },
    "id": "3e989bc8",
    "outputId": "bcc1bdb6-c069-4fba-ae82-11b017e1b7b4"
   },
   "outputs": [],
   "source": [
    "from IPython import get_ipython  \n",
    "get_ipython().magic('reset -sf')"
   ]
  },
  {
   "cell_type": "code",
   "execution_count": null,
   "id": "1791b6b2",
   "metadata": {
    "executionInfo": {
     "elapsed": 31,
     "status": "ok",
     "timestamp": 1667286971743,
     "user": {
      "displayName": "biplab k",
      "userId": "11262593756827991651"
     },
     "user_tz": -330
    },
    "id": "1791b6b2"
   },
   "outputs": [],
   "source": [
    "import numpy as np\n",
    "from math import sin, cos, pi, exp, log\n",
    "from numpy.random import randn\n",
    "\n",
    "from celluloid import Camera\n",
    "import matplotlib.pyplot as plt\n",
    "\n",
    "from tqdm import tqdm\n",
    "from IPython.display import HTML"
   ]
  },
  {
   "cell_type": "markdown",
   "id": "602e1314-dbbd-4660-87bd-321a0a0068a1",
   "metadata": {
    "tags": []
   },
   "source": [
    "<h3>The target function to be approximated</h3>"
   ]
  },
  {
   "cell_type": "code",
   "execution_count": null,
   "id": "f00d0373",
   "metadata": {
    "executionInfo": {
     "elapsed": 30,
     "status": "ok",
     "timestamp": 1667286971743,
     "user": {
      "displayName": "biplab k",
      "userId": "11262593756827991651"
     },
     "user_tz": -330
    },
    "id": "f00d0373"
   },
   "outputs": [],
   "source": [
    "\"\"\"Target function to be approximated. Change it and play around with different functions to see how the neural net behaves. \n",
    "For which type of functions will it be able to appromixate with higher accuracy, and which type of functions will it struggle to find a good fit?\n",
    "\"\"\"\n",
    "F = np.vectorize(lambda x: cos(6*pi*x))"
   ]
  },
  {
   "cell_type": "markdown",
   "id": "09cdde66-2842-47ab-9694-db3a37410d4d",
   "metadata": {
    "tags": []
   },
   "source": [
    "<h3>Initialization</h3>"
   ]
  },
  {
   "cell_type": "markdown",
   "id": "a663851f-7715-48c2-8e22-5470cc6884ed",
   "metadata": {
    "tags": []
   },
   "source": [
    "<h5>The Sigmoid</h5>"
   ]
  },
  {
   "cell_type": "code",
   "execution_count": null,
   "id": "ffe63010-6c89-4e3a-a5ff-581a65bdb9fd",
   "metadata": {},
   "outputs": [],
   "source": [
    "sigm = np.vectorize(lambda x: 1/(1 + exp(-x))) #The Sigmoid function"
   ]
  },
  {
   "cell_type": "code",
   "execution_count": null,
   "id": "06908368",
   "metadata": {
    "executionInfo": {
     "elapsed": 30,
     "status": "ok",
     "timestamp": 1667286971743,
     "user": {
      "displayName": "biplab k",
      "userId": "11262593756827991651"
     },
     "user_tz": -330
    },
    "id": "06908368"
   },
   "outputs": [],
   "source": [
    "MAX = 2000 #Number of iterations to train the network\n",
    "skip_frame_capture = 20 #Parameter that controls how many frames we will skip while animating among overall iterations. Total animation frames = MAX/skip_frame_capture\n",
    "\n",
    "N = 25 #Number of nodes in the hidden layer"
   ]
  },
  {
   "cell_type": "markdown",
   "id": "45b74f8a-6db0-4c29-aafa-d56512d771b1",
   "metadata": {
    "tags": []
   },
   "source": [
    "<h5>Initializing parameters for ADAM, an optimized gradient descent variation</h5>"
   ]
  },
  {
   "cell_type": "code",
   "execution_count": null,
   "id": "10fb20ca",
   "metadata": {
    "executionInfo": {
     "elapsed": 31,
     "status": "ok",
     "timestamp": 1667286971744,
     "user": {
      "displayName": "biplab k",
      "userId": "11262593756827991651"
     },
     "user_tz": -330
    },
    "id": "10fb20ca"
   },
   "outputs": [],
   "source": [
    "#For more details about ADAM, see - https://arxiv.org/abs/1412.6980\n",
    "eta = 0.05 #Learning Rate\n",
    "\n",
    "#ADAM parameters\n",
    "beta1 = 0.9\n",
    "beta2 = 0.999\n",
    "epsilon = 1e-8\n",
    "\n",
    "m_parW = [np.zeros((N,1))]\n",
    "m_parB = [np.zeros((N,1))]\n",
    "m_parV = [np.zeros((N,1))]\n",
    "\n",
    "v_parW  = [np.zeros((N,1))]\n",
    "v_parB = [np.zeros((N,1))]\n",
    "v_parV = [np.zeros((N,1))]"
   ]
  },
  {
   "cell_type": "markdown",
   "id": "4d52c5fd-9d0d-4181-9315-e8f136184a32",
   "metadata": {
    "tags": []
   },
   "source": [
    "<h5>Initializing the parameters of our neural network</h5>"
   ]
  },
  {
   "cell_type": "code",
   "execution_count": null,
   "id": "262f53f5",
   "metadata": {
    "executionInfo": {
     "elapsed": 30,
     "status": "ok",
     "timestamp": 1667286971744,
     "user": {
      "displayName": "biplab k",
      "userId": "11262593756827991651"
     },
     "user_tz": -330
    },
    "id": "262f53f5"
   },
   "outputs": [],
   "source": [
    "#Initilizing the weights from a normal distribution, Be careful about weight initialization\n",
    "#I have used a normal distribution, and some experimentation with shifting/scaling them, but you can try other options.\n",
    "#What will happen with all weights initialized to zero? To really large numbers? What if we draw them from some other distribution?\n",
    "\n",
    "W = 5*randn(N, 1) #Weights from the input for the hidden layer, i.e. the w_i's in our series \\sum v_i sigmoid(w_i x + b_i)\n",
    "B = 20*randn(N, 1) #Bias at each node at the hidden layer, i.e. the b_i's in our series \\sum v_i sigmoid(w_i x + b_i)\n",
    "\n",
    "V = 5*randn(N,1) #Weights from hidden to output layer, i.e. constants v_i in our series\n",
    "\n",
    "W = W + 1.1*abs(np.min(W)) "
   ]
  },
  {
   "cell_type": "markdown",
   "id": "1b2f83ff-2350-4fdf-8722-1c9378c5bb7b",
   "metadata": {
    "tags": []
   },
   "source": [
    "<h5>Creating the training data</h5>"
   ]
  },
  {
   "cell_type": "code",
   "execution_count": null,
   "id": "99adcf88",
   "metadata": {
    "executionInfo": {
     "elapsed": 31,
     "status": "ok",
     "timestamp": 1667286971745,
     "user": {
      "displayName": "biplab k",
      "userId": "11262593756827991651"
     },
     "user_tz": -330
    },
    "id": "99adcf88"
   },
   "outputs": [],
   "source": [
    "#Increase the training size as you increase number of parameters\n",
    "\n",
    "Tsize = 100 #Training input size\n",
    "\n",
    "x = np.arange(-1,1, 1.0/Tsize) #Training input\n",
    "x = x[np.newaxis, :]\n",
    "\n",
    "Y = F(x) #Training output\n",
    "\n",
    "#Array to store the loss function at each iteration\n",
    "loss_vals = []"
   ]
  },
  {
   "cell_type": "markdown",
   "id": "e19edfdd-7e59-404d-9f46-fa6fd2587f1e",
   "metadata": {
    "tags": []
   },
   "source": [
    "<h5>Data Standardization</h5>"
   ]
  },
  {
   "cell_type": "code",
   "execution_count": null,
   "id": "c7ca9610",
   "metadata": {
    "executionInfo": {
     "elapsed": 31,
     "status": "ok",
     "timestamp": 1667286971745,
     "user": {
      "displayName": "biplab k",
      "userId": "11262593756827991651"
     },
     "user_tz": -330
    },
    "id": "c7ca9610"
   },
   "outputs": [],
   "source": [
    "#Standardizing the training set\n",
    "x2 =  (x - np.mean(x) ) /np.std(x)\n",
    "\n",
    "Y2 =  (Y - np.mean(Y) ) /np.std(Y)"
   ]
  },
  {
   "cell_type": "markdown",
   "id": "6fdff9fd-3027-48e2-88e8-dd33b5fb818f",
   "metadata": {
    "tags": []
   },
   "source": [
    "<h5>Updating the settings for plotting</h5>"
   ]
  },
  {
   "cell_type": "code",
   "execution_count": null,
   "id": "0eebdd34",
   "metadata": {
    "colab": {
     "base_uri": "https://localhost:8080/",
     "height": 282
    },
    "executionInfo": {
     "elapsed": 569,
     "status": "ok",
     "timestamp": 1667286972284,
     "user": {
      "displayName": "biplab k",
      "userId": "11262593756827991651"
     },
     "user_tz": -330
    },
    "id": "0eebdd34",
    "outputId": "41c02564-e90e-4d20-da45-cd825cc4e7e8"
   },
   "outputs": [],
   "source": [
    "fig, ax = plt.subplots(figsize=(16,9))\n",
    "camera = Camera(fig)\n",
    "\n",
    "ax.set_ylim([1.1*np.min(Y2), 1.1*np.max(Y2)])\n",
    "\n",
    "plt.style.use(\"seaborn-dark\")\n",
    "plt.rcParams[\"font.family\"] = \"Franklin Gothic Book\"\n",
    "plt.rcParams[\"font.size\"] = 20\n",
    "plt.rcParams[\"font.weight\"] = \"bold\"\n",
    "for param in ['figure.facecolor', 'axes.facecolor', 'savefig.facecolor']:\n",
    "    plt.rcParams[param] = '#060b14'\n",
    "for param in ['text.color', 'axes.labelcolor', 'xtick.color', 'ytick.color']:\n",
    "    plt.rcParams[param] = '0.95'\n",
    "\n",
    "\n",
    "ax.grid(color='#2A3459')"
   ]
  },
  {
   "cell_type": "markdown",
   "id": "aadc4c04-fc33-4b66-b3cc-ce246f1ec0c5",
   "metadata": {
    "tags": []
   },
   "source": [
    "<h3>Training</h3>"
   ]
  },
  {
   "cell_type": "markdown",
   "id": "53d39dc5-f029-4a60-b70e-3832b413d866",
   "metadata": {
    "tags": []
   },
   "source": [
    "<h5> Function to compute the gradient descent stepchange, based on ADAM </h5>"
   ]
  },
  {
   "cell_type": "code",
   "execution_count": null,
   "id": "8b0eb199-1e24-45b0-b966-2e0619fbdf1d",
   "metadata": {},
   "outputs": [],
   "source": [
    "def get_stepchange(m_par, v_par, dF, k):\n",
    "    m_par[0] = beta1*m_par[0] + (1 - beta1) * dF\n",
    "    v_par[0] = beta2*v_par[0] + (1 - beta2) * dF**2\n",
    "    \n",
    "    mHat = m_par[0]/(1 - beta1**k)\n",
    "    vHat = v_par[0]/(1 - beta2**k)\n",
    "    \n",
    "    return eta*mHat/(np.sqrt(vHat) + epsilon)"
   ]
  },
  {
   "cell_type": "markdown",
   "id": "a8cb737f-ff8e-4d1e-805e-2185f32cdae7",
   "metadata": {
    "tags": []
   },
   "source": [
    "<h5> The training iterations </h5>"
   ]
  },
  {
   "cell_type": "code",
   "execution_count": null,
   "id": "8f1cc8e7",
   "metadata": {
    "colab": {
     "base_uri": "https://localhost:8080/"
    },
    "executionInfo": {
     "elapsed": 42071,
     "status": "ok",
     "timestamp": 1667287014338,
     "user": {
      "displayName": "biplab k",
      "userId": "11262593756827991651"
     },
     "user_tz": -330
    },
    "id": "8f1cc8e7",
    "outputId": "c50b0754-e34a-41d4-b3e8-c31b68aa7e97"
   },
   "outputs": [],
   "source": [
    "for iteration in tqdm(range(MAX)):\n",
    "    H = sigm(W@x2  +  B) #adds vector B to every column of W*x\n",
    "    O = V*H\n",
    "    O = np.sum(O, axis = 0)\n",
    "    O = O[np.newaxis, :]\n",
    "\n",
    "    delV = (O - Y2)\n",
    "    \n",
    "    dV = H*delV\n",
    "    dV = np.sum(dV,1)/(Tsize)\n",
    "    dV = dV[:, np.newaxis]\n",
    "    \n",
    "    delW = H*(1 - H)*(delV*V) #H is the output of the sigmoid. H*(1- H) = derivative of sigmoid\n",
    "    \n",
    "    dW = x2*delW\n",
    "    dW = np.sum(dW,1)/(Tsize)\n",
    "    dW = dW[:, np.newaxis]\n",
    "    \n",
    "    dB = delW\n",
    "    dB = np.sum(dB,1)/(Tsize)\n",
    "    dB = dB[:, np.newaxis]\n",
    "    \n",
    "    #Gradient descent update step\n",
    "    W = W - get_stepchange(m_parW, v_parW, dW, iteration + 1)\n",
    "    \n",
    "    V = V - get_stepchange(m_parV, v_parV, dV, iteration + 1)\n",
    "    \n",
    "    B = B - get_stepchange(m_parB, v_parB, dB, iteration + 1)\n",
    "\n",
    "    loss_vals.append(np.sum((O - Y2)**2)/Tsize)\n",
    "    \n",
    "    if not iteration%skip_frame_capture: #We don't capture the frame in every iteration, to make the animation faster\n",
    "        ax.plot(x2[0], O[0], c = '#47DBCD', linewidth=6.0)\n",
    "        ax.scatter(x2[0], Y2[0], c = '#ff0066', alpha = 0.7, s = 100)\n",
    "    \n",
    "        camera.snap()"
   ]
  },
  {
   "cell_type": "markdown",
   "id": "9bc6fd72-c10a-4fde-9b4a-c403768c6572",
   "metadata": {
    "tags": []
   },
   "source": [
    "<h3>Output</h3>"
   ]
  },
  {
   "cell_type": "markdown",
   "id": "030853a1-4683-4a6d-b731-9275a3d95c52",
   "metadata": {
    "executionInfo": {
     "elapsed": 10,
     "status": "ok",
     "timestamp": 1667287014339,
     "user": {
      "displayName": "biplab k",
      "userId": "11262593756827991651"
     },
     "user_tz": -330
    },
    "id": "c547026e",
    "tags": []
   },
   "source": [
    "<h5>Creating the animation</h5>"
   ]
  },
  {
   "cell_type": "code",
   "execution_count": null,
   "id": "85eb7a47",
   "metadata": {
    "colab": {
     "base_uri": "https://localhost:8080/",
     "height": 309
    },
    "executionInfo": {
     "elapsed": 40092,
     "status": "ok",
     "timestamp": 1667287054422,
     "user": {
      "displayName": "biplab k",
      "userId": "11262593756827991651"
     },
     "user_tz": -330
    },
    "id": "85eb7a47",
    "outputId": "c42e33c0-e591-47da-9c30-264a3603dd94"
   },
   "outputs": [],
   "source": [
    "animation = camera.animate(interval = 20, blit=True) #Increase interval to increase animation duration"
   ]
  },
  {
   "cell_type": "markdown",
   "id": "3d3174cf-fef8-4a4b-8e9d-45611ab67b6e",
   "metadata": {
    "tags": []
   },
   "source": [
    "<h5> Viewing the animation on notebook </h5>"
   ]
  },
  {
   "cell_type": "code",
   "execution_count": null,
   "id": "d2d2919d-bf69-4f63-ba16-d01a99bc3c7f",
   "metadata": {},
   "outputs": [],
   "source": [
    "HTML(animation.to_html5_video())"
   ]
  },
  {
   "cell_type": "markdown",
   "id": "24147d8f-8614-42c9-b902-ec7cbb21045e",
   "metadata": {
    "tags": []
   },
   "source": [
    "<h5> Saving the animation on disk </h5>"
   ]
  },
  {
   "cell_type": "code",
   "execution_count": null,
   "id": "c7aa6cf5-e366-4a62-84d3-d8f23e9fd58e",
   "metadata": {},
   "outputs": [],
   "source": [
    "animation.save('output.mov', dpi = 240, fps = 60) #resolution = width x dpi, fps = frames per second"
   ]
  },
  {
   "cell_type": "code",
   "execution_count": null,
   "id": "41458581-6da7-48d4-a1fb-1f3316a3f7eb",
   "metadata": {},
   "outputs": [],
   "source": [
    "animation.save('output.gif', dpi = 40, writer = 'imagemagick', fps = 50)"
   ]
  },
  {
   "cell_type": "markdown",
   "id": "b3d94559-3f64-4fec-89d6-0ecabc6d4679",
   "metadata": {
    "tags": []
   },
   "source": [
    "<h5> Plotting the loss curve </h5>"
   ]
  },
  {
   "cell_type": "code",
   "execution_count": null,
   "id": "41c2892c-b15d-48f7-82c8-edd5d5b39082",
   "metadata": {},
   "outputs": [],
   "source": [
    "plt.plot(range(MAX), loss_vals)"
   ]
  }
 ],
 "metadata": {
  "colab": {
   "collapsed_sections": [],
   "provenance": [
    {
     "file_id": "https://github.com/12345pnp/Constructive-Approximation-Theory-Project/blob/12345pnp-patch-1/neural_approx_1D.ipynb",
     "timestamp": 1666861959686
    }
   ]
  },
  "kernelspec": {
   "display_name": "Python 3",
   "language": "python",
   "name": "python3"
  },
  "language_info": {
   "codemirror_mode": {
    "name": "ipython",
    "version": 3
   },
   "file_extension": ".py",
   "mimetype": "text/x-python",
   "name": "python",
   "nbconvert_exporter": "python",
   "pygments_lexer": "ipython3",
   "version": "3.9.1"
  }
 },
 "nbformat": 4,
 "nbformat_minor": 5
}
